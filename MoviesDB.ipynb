{
 "cells": [
  {
   "cell_type": "code",
   "execution_count": null,
   "id": "d4b73d15",
   "metadata": {},
   "outputs": [],
   "source": [
    "import pandas as pd\n",
    "import numpy as np\n",
    "import re"
   ]
  },
  {
   "cell_type": "code",
   "execution_count": null,
   "id": "9a697aa4",
   "metadata": {},
   "outputs": [],
   "source": [
    "df = pd.read_csv(\"/movies.csv\").drop([\"ONE-LINE\"], axis=1).fillna(\"\")"
   ]
  },
  {
   "cell_type": "code",
   "execution_count": null,
   "id": "ddaf3dd1",
   "metadata": {},
   "outputs": [],
   "source": [
    "df.columns"
   ]
  },
  {
   "cell_type": "code",
   "execution_count": null,
   "id": "89bb86f5",
   "metadata": {},
   "outputs": [],
   "source": [
    "directors = []\n",
    "new_stars = []\n",
    "stars = df['STARS']\n",
    "for star in stars:\n",
    "\n",
    "    if \"Director\" in star:\n",
    "        clean_data = \" \".join(star.replace(\"Director\", \"\").replace(\"s:\",\"\").replace(\"Star\", \"\").split())\n",
    "        if clean_data[0] == \":\":\n",
    "            clean_data = clean_data.replace(\":\", \"\")\n",
    "    else:\n",
    "        clean_data = \" \".join(star.replace(\"Stars:\", \"\").split())\n",
    "    if \"|\" in clean_data:\n",
    "        director = clean_data.split(\"|\")[0].split(\",\")\n",
    "        new_star = clean_data.split(\"|\")[1].split(\",\")\n",
    "    else:\n",
    "        director = [\"\"]\n",
    "        new_star = clean_data.split(\",\")\n",
    "    directors.append(director)\n",
    "    new_stars.append(new_star)"
   ]
  },
  {
   "cell_type": "code",
   "execution_count": null,
   "id": "8ab34b3b",
   "metadata": {},
   "outputs": [],
   "source": [
    "all_directors = []\n",
    "for director in directors:\n",
    "    clean_director = []\n",
    "    for i in director:\n",
    "        n = i.strip()\n",
    "        clean_director.append(n)\n",
    "    all_directors.append(', '.join(str(i) for i in clean_director))\n",
    "print(all_directors)"
   ]
  },
  {
   "cell_type": "code",
   "execution_count": null,
   "id": "2f2ae17b",
   "metadata": {},
   "outputs": [],
   "source": [
    "all_stars = []\n",
    "for new_star in new_stars:\n",
    "    clean_stars = []\n",
    "    for i in new_star:\n",
    "        n = i.strip()\n",
    "        clean_stars.append(n)\n",
    "    all_stars.append(', '.join(str(i) for i in clean_stars))"
   ]
  },
  {
   "cell_type": "code",
   "execution_count": null,
   "id": "723a3e53",
   "metadata": {},
   "outputs": [],
   "source": [
    "years = df['YEAR']\n",
    "release_years = []\n",
    "stopped_airing_yrs = []\n",
    "for year in years:\n",
    "    new_year = str(year)\n",
    "    new_year = new_year.replace(\" \", \"\").replace(\"(\", \"\").replace(\")\", \"\")\n",
    "    new_year = re.sub(\"[a-z]|[A-Z]\", \"\", new_year)\n",
    "    new_year = new_year.split(\"–\")\n",
    "    if len(new_year) == 2:\n",
    "        release_year = new_year[0]\n",
    "        if new_year[1] == \"\":\n",
    "            stopped_airing = \"Still Airing\"\n",
    "        else:\n",
    "            stopped_airing = new_year[1]\n",
    "    else:\n",
    "        release_year = new_year[0]\n",
    "        stopped_airing = \"\"\n",
    "    release_years.append(release_year)\n",
    "    stopped_airing_yrs.append(stopped_airing)"
   ]
  },
  {
   "cell_type": "code",
   "execution_count": null,
   "id": "18e1fe85",
   "metadata": {},
   "outputs": [],
   "source": [
    "genres = np.array(df['GENRE'])\n",
    "all_genres = []\n",
    "for genre in genres:\n",
    "    genre = str(genre)\n",
    "    genre_list = genre.replace(\"\\n\", \"\").replace(\" \", \"\").split(\",\")\n",
    "    for g in genre_list:\n",
    "        all_genres.append(g)\n",
    "\n",
    "unique_genre = np.unique(all_genres)[0:-1]    "
   ]
  },
  {
   "cell_type": "code",
   "execution_count": null,
   "id": "d6943b30",
   "metadata": {},
   "outputs": [],
   "source": [
    "all_genres = []\n",
    "for gen in unique_genre:\n",
    "    gener = []\n",
    "    for genre in genres:\n",
    "        genre = str(genre)\n",
    "        genre_list = genre.replace(\"\\n\", \"\").replace(\" \", \"\").split(\",\")\n",
    "        for n in genre_list:\n",
    "            if gen in genre_list:\n",
    "                n = True\n",
    "            else:\n",
    "                n = False\n",
    "        gener.append(n)\n",
    "    all_genres.append(gener)\n",
    "genres_arr = np.array(all_genres).transpose()\n",
    "print(genres_arr)"
   ]
  },
  {
   "cell_type": "code",
   "execution_count": null,
   "id": "801acd8b",
   "metadata": {},
   "outputs": [],
   "source": [
    "new_df = pd.DataFrame(genres_arr, columns=unique_genre)\n",
    "new_df.insert(0, \"MOVIES\", df.MOVIES, True)\n",
    "new_df.insert(1, \"Year Released\", release_years, True)\n",
    "new_df.insert(2, \"Stopped Airing\", stopped_airing_yrs, True)\n",
    "new_df.insert(3, \"Directors\", all_directors, True)\n",
    "new_df.insert(4, \"Stars\", all_stars, True)\n",
    "new_df.to_excel(\"movies.xlsx\")\n",
    "print(new_df)"
   ]
  },
  {
   "cell_type": "code",
   "execution_count": null,
   "id": "b6556969",
   "metadata": {},
   "outputs": [],
   "source": []
  }
 ],
 "metadata": {
  "kernelspec": {
   "display_name": "Python 3 (ipykernel)",
   "language": "python",
   "name": "python3"
  },
  "language_info": {
   "codemirror_mode": {
    "name": "ipython",
    "version": 3
   },
   "file_extension": ".py",
   "mimetype": "text/x-python",
   "name": "python",
   "nbconvert_exporter": "python",
   "pygments_lexer": "ipython3",
   "version": "3.9.13"
  }
 },
 "nbformat": 4,
 "nbformat_minor": 5
}
